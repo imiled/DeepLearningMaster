{
  "nbformat": 4,
  "nbformat_minor": 0,
  "metadata": {
    "colab": {
      "name": "Tensorflow_Utils.ipynb",
      "provenance": [],
      "collapsed_sections": [],
      "include_colab_link": true
    },
    "kernelspec": {
      "name": "python3",
      "display_name": "Python 3"
    }
  },
  "cells": [
    {
      "cell_type": "markdown",
      "metadata": {
        "id": "view-in-github",
        "colab_type": "text"
      },
      "source": [
        "<a href=\"https://colab.research.google.com/github/imiled/DeepLearningMaster/blob/master/Tensorflow_Utils.ipynb\" target=\"_parent\"><img src=\"https://colab.research.google.com/assets/colab-badge.svg\" alt=\"Open In Colab\"/></a>"
      ]
    },
    {
      "cell_type": "code",
      "metadata": {
        "id": "mcY2thobD7bZ",
        "colab_type": "code",
        "colab": {}
      },
      "source": [
        "!apt-get update > /dev/null 2>&1\n",
        "!apt-get install cmake > /dev/null 2>&1\n",
        "!pip install --upgrade setuptools > /dev/null 2>&1\n",
        "!pip install tensorflow-gpu==2.0.0 > /dev/null 2>&1"
      ],
      "execution_count": 0,
      "outputs": []
    },
    {
      "cell_type": "code",
      "metadata": {
        "id": "3LWbj4n3GqxQ",
        "colab_type": "code",
        "colab": {}
      },
      "source": [
        "import tensorflow as tf\n",
        "import numpy as np"
      ],
      "execution_count": 0,
      "outputs": []
    },
    {
      "cell_type": "markdown",
      "metadata": {
        "id": "aPfsexGTF-Fy",
        "colab_type": "text"
      },
      "source": [
        "Let's try to fit a parabollic function using \n",
        " "
      ]
    },
    {
      "cell_type": "markdown",
      "metadata": {
        "id": "xSQ4NxtxVE7l",
        "colab_type": "text"
      },
      "source": [
        ""
      ]
    },
    {
      "cell_type": "code",
      "metadata": {
        "id": "70-5CQflJ8Dj",
        "colab_type": "code",
        "colab": {}
      },
      "source": [
        "f = lambda x: 2*x**2 + x +1\n",
        "x_train = np.linspace(-100,100,1000)\n",
        "y_train = f(x_train)\n",
        "\n",
        "x_test = np.linspace(-110,-100.01,10)\n",
        "y_test = f(x_test)"
      ],
      "execution_count": 0,
      "outputs": []
    },
    {
      "cell_type": "markdown",
      "metadata": {
        "id": "IMIdG9C6MiDQ",
        "colab_type": "text"
      },
      "source": [
        "# Model Definition"
      ]
    },
    {
      "cell_type": "markdown",
      "metadata": {
        "id": "Z83KS3O1GXIw",
        "colab_type": "text"
      },
      "source": [
        "### Sequential API"
      ]
    },
    {
      "cell_type": "code",
      "metadata": {
        "id": "OLcjGsAPGaUM",
        "colab_type": "code",
        "colab": {}
      },
      "source": [
        "sequential_model = tf.keras.models.Sequential()\n",
        "sequential_model.add(tf.keras.layers.Dense(64, input_shape=(1,), activation='relu'))\n",
        "sequential_model.add(tf.keras.layers.Dense(32, activation='relu'))\n",
        "sequential_model.add(tf.keras.layers.Dense(1))"
      ],
      "execution_count": 0,
      "outputs": []
    },
    {
      "cell_type": "code",
      "metadata": {
        "id": "DbZQKep9GuSd",
        "colab_type": "code",
        "outputId": "dd0c4697-00e7-4866-83e3-fedcee47e1e5",
        "colab": {
          "base_uri": "https://localhost:8080/",
          "height": 245
        }
      },
      "source": [
        "sequential_model.summary()"
      ],
      "execution_count": 22,
      "outputs": [
        {
          "output_type": "stream",
          "text": [
            "Model: \"sequential_1\"\n",
            "_________________________________________________________________\n",
            "Layer (type)                 Output Shape              Param #   \n",
            "=================================================================\n",
            "dense_6 (Dense)              (None, 64)                128       \n",
            "_________________________________________________________________\n",
            "dense_7 (Dense)              (None, 32)                2080      \n",
            "_________________________________________________________________\n",
            "dense_8 (Dense)              (None, 1)                 33        \n",
            "=================================================================\n",
            "Total params: 2,241\n",
            "Trainable params: 2,241\n",
            "Non-trainable params: 0\n",
            "_________________________________________________________________\n"
          ],
          "name": "stdout"
        }
      ]
    },
    {
      "cell_type": "code",
      "metadata": {
        "id": "x7TNkmcKJ1nW",
        "colab_type": "code",
        "outputId": "4a93ff15-cbbf-4e3e-ce2e-7991fa7a7d65",
        "colab": {
          "base_uri": "https://localhost:8080/",
          "height": 521
        }
      },
      "source": [
        "sequential_model.compile(optimizer=tf.keras.optimizers.Adam(), loss=tf.keras.losses.mean_squared_error)\n",
        "sequential_model.fit(x_train, y_train, batch_size=8, epochs=10, validation_split=.2)\n",
        "sequential_model.predict(x_test)"
      ],
      "execution_count": 33,
      "outputs": [
        {
          "output_type": "stream",
          "text": [
            "Train on 800 samples, validate on 200 samples\n",
            "Epoch 1/10\n",
            "800/800 [==============================] - 1s 673us/sample - loss: 51219951.4150 - val_loss: 179967421.1200\n",
            "Epoch 2/10\n",
            "800/800 [==============================] - 0s 265us/sample - loss: 44510819.3400 - val_loss: 162786089.7600\n",
            "Epoch 3/10\n",
            "800/800 [==============================] - 0s 262us/sample - loss: 30260426.7675 - val_loss: 128555415.8400\n",
            "Epoch 4/10\n",
            "800/800 [==============================] - 0s 274us/sample - loss: 13854141.1150 - val_loss: 87440030.4800\n",
            "Epoch 5/10\n",
            "800/800 [==============================] - 0s 270us/sample - loss: 5331467.3341 - val_loss: 59075870.3200\n",
            "Epoch 6/10\n",
            "800/800 [==============================] - 0s 275us/sample - loss: 3645309.5881 - val_loss: 48327514.1200\n",
            "Epoch 7/10\n",
            "800/800 [==============================] - 0s 248us/sample - loss: 3516865.6900 - val_loss: 44380955.3000\n",
            "Epoch 8/10\n",
            "800/800 [==============================] - 0s 260us/sample - loss: 3497689.0112 - val_loss: 43324918.3200\n",
            "Epoch 9/10\n",
            "800/800 [==============================] - 0s 247us/sample - loss: 3483971.0081 - val_loss: 42275196.3600\n",
            "Epoch 10/10\n",
            "800/800 [==============================] - 0s 279us/sample - loss: 3473009.8638 - val_loss: 42672092.9400\n"
          ],
          "name": "stdout"
        },
        {
          "output_type": "execute_result",
          "data": {
            "text/plain": [
              "array([[16241.183],\n",
              "       [16077.847],\n",
              "       [15914.514],\n",
              "       [15751.178],\n",
              "       [15587.843],\n",
              "       [15424.508],\n",
              "       [15261.173],\n",
              "       [15097.841],\n",
              "       [14934.505],\n",
              "       [14771.172]], dtype=float32)"
            ]
          },
          "metadata": {
            "tags": []
          },
          "execution_count": 33
        }
      ]
    },
    {
      "cell_type": "markdown",
      "metadata": {
        "id": "t4I-8vuMGS5i",
        "colab_type": "text"
      },
      "source": [
        "### Functional API"
      ]
    },
    {
      "cell_type": "code",
      "metadata": {
        "id": "swQEuvHVGSpz",
        "colab_type": "code",
        "outputId": "c9bc7f34-74d3-46be-eeb1-d453d01b9696",
        "colab": {
          "base_uri": "https://localhost:8080/",
          "height": 277
        }
      },
      "source": [
        "x = tf.keras.layers.Input(shape=(1,))\n",
        "dense_relu_64 = tf.keras.layers.Dense(64, activation='relu')(x)\n",
        "dense_relu_32 = tf.keras.layers.Dense(32, activation='relu')(dense_relu_64)\n",
        "y = tf.keras.layers.Dense(1)(dense_relu_32)\n",
        "\n",
        "functional_model = tf.keras.Model(x, y)\n",
        "functional_model.summary()\n"
      ],
      "execution_count": 24,
      "outputs": [
        {
          "output_type": "stream",
          "text": [
            "Model: \"model_1\"\n",
            "_________________________________________________________________\n",
            "Layer (type)                 Output Shape              Param #   \n",
            "=================================================================\n",
            "input_2 (InputLayer)         [(None, 1)]               0         \n",
            "_________________________________________________________________\n",
            "dense_9 (Dense)              (None, 64)                128       \n",
            "_________________________________________________________________\n",
            "dense_10 (Dense)             (None, 32)                2080      \n",
            "_________________________________________________________________\n",
            "dense_11 (Dense)             (None, 1)                 33        \n",
            "=================================================================\n",
            "Total params: 2,241\n",
            "Trainable params: 2,241\n",
            "Non-trainable params: 0\n",
            "_________________________________________________________________\n"
          ],
          "name": "stdout"
        }
      ]
    },
    {
      "cell_type": "code",
      "metadata": {
        "id": "mViqgogwKYPn",
        "colab_type": "code",
        "outputId": "f1b14964-3efa-486e-ddad-06d0f4a81896",
        "colab": {
          "base_uri": "https://localhost:8080/",
          "height": 521
        }
      },
      "source": [
        "functional_model.compile(optimizer=tf.keras.optimizers.Adam(), loss=tf.keras.losses.mean_squared_error)\n",
        "functional_model.fit(x_train, y_train, batch_size=8, epochs=10, validation_split=.2)\n",
        "functional_model.predict(x_test)"
      ],
      "execution_count": 34,
      "outputs": [
        {
          "output_type": "stream",
          "text": [
            "Train on 800 samples, validate on 200 samples\n",
            "Epoch 1/10\n",
            "800/800 [==============================] - 1s 855us/sample - loss: 52316241.7650 - val_loss: 177750091.0400\n",
            "Epoch 2/10\n",
            "800/800 [==============================] - 0s 260us/sample - loss: 48050091.2750 - val_loss: 154102114.7200\n",
            "Epoch 3/10\n",
            "800/800 [==============================] - 0s 267us/sample - loss: 37417163.9475 - val_loss: 111928867.9200\n",
            "Epoch 4/10\n",
            "800/800 [==============================] - 0s 260us/sample - loss: 22088941.4500 - val_loss: 66693018.4800\n",
            "Epoch 5/10\n",
            "800/800 [==============================] - 0s 257us/sample - loss: 9640977.3887 - val_loss: 45651136.9000\n",
            "Epoch 6/10\n",
            "800/800 [==============================] - 0s 268us/sample - loss: 4492526.4212 - val_loss: 40633567.9800\n",
            "Epoch 7/10\n",
            "800/800 [==============================] - 0s 253us/sample - loss: 3594883.0553 - val_loss: 42505948.9800\n",
            "Epoch 8/10\n",
            "800/800 [==============================] - 0s 251us/sample - loss: 3514353.5312 - val_loss: 41607011.8200\n",
            "Epoch 9/10\n",
            "800/800 [==============================] - 0s 255us/sample - loss: 3495585.7675 - val_loss: 42574372.3200\n",
            "Epoch 10/10\n",
            "800/800 [==============================] - 0s 268us/sample - loss: 3484737.0675 - val_loss: 41924964.1000\n"
          ],
          "name": "stdout"
        },
        {
          "output_type": "execute_result",
          "data": {
            "text/plain": [
              "array([[16260.148],\n",
              "       [16096.837],\n",
              "       [15933.527],\n",
              "       [15770.219],\n",
              "       [15606.906],\n",
              "       [15443.598],\n",
              "       [15280.286],\n",
              "       [15116.979],\n",
              "       [14953.667],\n",
              "       [14790.358]], dtype=float32)"
            ]
          },
          "metadata": {
            "tags": []
          },
          "execution_count": 34
        }
      ]
    },
    {
      "cell_type": "markdown",
      "metadata": {
        "id": "31als3d0H8IT",
        "colab_type": "text"
      },
      "source": [
        "### Model Subclassing"
      ]
    },
    {
      "cell_type": "code",
      "metadata": {
        "id": "qDRHX33uH-zk",
        "colab_type": "code",
        "colab": {}
      },
      "source": [
        "class NN(tf.keras.Model):\n",
        "\n",
        "    def __init__(self):\n",
        "        super(NN, self).__init__()\n",
        "        self.dense_relu_64 = tf.keras.layers.Dense(64, activation='relu')\n",
        "        self.dense_relu_32 = tf.keras.layers.Dense(32, activation='relu')\n",
        "        self.dense_linear_1 = tf.keras.layers.Dense(1)\n",
        "\n",
        "    def call(self, inputs):\n",
        "        x = self.dense_relu_64(inputs)\n",
        "        x = self.dense_relu_32(x)\n",
        "        x = self.dense_linear_1(x)\n",
        "        return x"
      ],
      "execution_count": 0,
      "outputs": []
    },
    {
      "cell_type": "code",
      "metadata": {
        "id": "iMTgOWYUJPmE",
        "colab_type": "code",
        "outputId": "08309dc7-15f1-48af-f814-2de74f2a6ebd",
        "colab": {
          "base_uri": "https://localhost:8080/",
          "height": 313
        }
      },
      "source": [
        "subclassing = NN()\n",
        "x_test_sub = np.expand_dims(x_test, axis=1)\n",
        "print(subclassing(x_test_sub))"
      ],
      "execution_count": 27,
      "outputs": [
        {
          "output_type": "stream",
          "text": [
            "WARNING:tensorflow:Layer nn is casting an input tensor from dtype float64 to the layer's dtype of float32, which is new behavior in TensorFlow 2.  The layer has dtype float32 because it's dtype defaults to floatx.\n",
            "\n",
            "If you intended to run this layer in float32, you can safely ignore this warning. If in doubt, this warning is likely only an issue if you are porting a TensorFlow 1.X model to TensorFlow 2.\n",
            "\n",
            "To change all layers to have dtype float64 by default, call `tf.keras.backend.set_floatx('float64')`. To change just this layer, pass dtype='float64' to the layer constructor. If you are the author of this layer, you can disable autocasting by passing autocast=False to the base Layer constructor.\n",
            "\n",
            "tf.Tensor(\n",
            "[[-11.257616 ]\n",
            " [-11.144018 ]\n",
            " [-11.0304165]\n",
            " [-10.916816 ]\n",
            " [-10.803221 ]\n",
            " [-10.689617 ]\n",
            " [-10.576019 ]\n",
            " [-10.462423 ]\n",
            " [-10.348821 ]\n",
            " [-10.235218 ]], shape=(10, 1), dtype=float32)\n"
          ],
          "name": "stdout"
        }
      ]
    },
    {
      "cell_type": "code",
      "metadata": {
        "id": "wyFsfa93F6Bi",
        "colab_type": "code",
        "outputId": "a11f099f-a82a-4a06-83a1-b5f5a793f1c1",
        "colab": {
          "base_uri": "https://localhost:8080/",
          "height": 33
        }
      },
      "source": [
        "x_test.shape"
      ],
      "execution_count": 28,
      "outputs": [
        {
          "output_type": "execute_result",
          "data": {
            "text/plain": [
              "(10,)"
            ]
          },
          "metadata": {
            "tags": []
          },
          "execution_count": 28
        }
      ]
    },
    {
      "cell_type": "markdown",
      "metadata": {
        "id": "wu1BRCK6Md_4",
        "colab_type": "text"
      },
      "source": [
        "# Training Model Subclassing"
      ]
    },
    {
      "cell_type": "markdown",
      "metadata": {
        "id": "3sg70UdRMsE0",
        "colab_type": "text"
      },
      "source": [
        "### Fit"
      ]
    },
    {
      "cell_type": "code",
      "metadata": {
        "id": "bai2cFsCNQ-T",
        "colab_type": "code",
        "colab": {
          "base_uri": "https://localhost:8080/",
          "height": 521
        },
        "outputId": "6e9ee8cc-d0f7-4ca4-cae5-4a969cd20692"
      },
      "source": [
        "subclassing.compile(optimizer=tf.keras.optimizers.Adam(), loss=tf.keras.losses.mean_squared_error)\n",
        "subclassing.fit(x_train, y_train, batch_size=8, epochs=10, validation_split=.2)\n",
        "subclassing.predict(x_test)"
      ],
      "execution_count": 35,
      "outputs": [
        {
          "output_type": "stream",
          "text": [
            "Train on 800 samples, validate on 200 samples\n",
            "Epoch 1/10\n",
            "800/800 [==============================] - 1s 678us/sample - loss: 52609312.4250 - val_loss: 178828661.1200\n",
            "Epoch 2/10\n",
            "800/800 [==============================] - 0s 261us/sample - loss: 48022279.3050 - val_loss: 149698877.9200\n",
            "Epoch 3/10\n",
            "800/800 [==============================] - 0s 266us/sample - loss: 36090701.1013 - val_loss: 94543868.6400\n",
            "Epoch 4/10\n",
            "800/800 [==============================] - 0s 258us/sample - loss: 19646798.1569 - val_loss: 52639700.3800\n",
            "Epoch 5/10\n",
            "800/800 [==============================] - 0s 274us/sample - loss: 8065875.4094 - val_loss: 40818413.5700\n",
            "Epoch 6/10\n",
            "800/800 [==============================] - 0s 266us/sample - loss: 4098950.7325 - val_loss: 41741364.6800\n",
            "Epoch 7/10\n",
            "800/800 [==============================] - 0s 261us/sample - loss: 3545799.0925 - val_loss: 42927907.0700\n",
            "Epoch 8/10\n",
            "800/800 [==============================] - 0s 255us/sample - loss: 3502913.4066 - val_loss: 42381495.8800\n",
            "Epoch 9/10\n",
            "800/800 [==============================] - 0s 259us/sample - loss: 3499852.5300 - val_loss: 42712913.4600\n",
            "Epoch 10/10\n",
            "800/800 [==============================] - 0s 260us/sample - loss: 3469744.1050 - val_loss: 42377762.7100\n"
          ],
          "name": "stdout"
        },
        {
          "output_type": "execute_result",
          "data": {
            "text/plain": [
              "array([[16193.671],\n",
              "       [16030.961],\n",
              "       [15868.251],\n",
              "       [15705.54 ],\n",
              "       [15542.829],\n",
              "       [15380.118],\n",
              "       [15217.409],\n",
              "       [15054.699],\n",
              "       [14891.986],\n",
              "       [14729.276]], dtype=float32)"
            ]
          },
          "metadata": {
            "tags": []
          },
          "execution_count": 35
        }
      ]
    },
    {
      "cell_type": "markdown",
      "metadata": {
        "id": "OWw_RxYyXofG",
        "colab_type": "text"
      },
      "source": [
        ""
      ]
    },
    {
      "cell_type": "markdown",
      "metadata": {
        "id": "l8UBHutcXo0i",
        "colab_type": "text"
      },
      "source": [
        ""
      ]
    },
    {
      "cell_type": "markdown",
      "metadata": {
        "id": "g95zVQGDMv_c",
        "colab_type": "text"
      },
      "source": [
        "### tf.GradientTape"
      ]
    },
    {
      "cell_type": "code",
      "metadata": {
        "id": "kSFm7lVzOHoL",
        "colab_type": "code",
        "colab": {}
      },
      "source": [
        "def optimize(model, x, y):\n",
        "    with tf.GradientTape() as tape: # save the cpst function\n",
        "        pred = model(x)\n",
        "        loss = tf.reduce_mean(tf.keras.losses.MSE(pred, y))\n",
        "\n",
        "    grads = tape.gradient(loss, model.trainable_weights)\n",
        "    optimizer = tf.keras.optimizers.Adam()\n",
        "    optimizer.apply_gradients(zip(grads, model.trainable_weights)) \n",
        "    return model, loss"
      ],
      "execution_count": 0,
      "outputs": []
    },
    {
      "cell_type": "code",
      "metadata": {
        "id": "LDV9F2LRMxx0",
        "colab_type": "code",
        "outputId": "0cbf8a80-8460-42e1-e257-169478671e90",
        "colab": {
          "base_uri": "https://localhost:8080/",
          "height": 297
        }
      },
      "source": [
        "subclassing = NN()\n",
        "x_test_sub = np.expand_dims(x_test, axis=1)\n",
        "epochs = 10\n",
        "for i in range(epochs):\n",
        "    subclassing, loss =  optimize(subclassing, x_test_sub, y_test)\n",
        "    print(i, loss) "
      ],
      "execution_count": 32,
      "outputs": [
        {
          "output_type": "stream",
          "text": [
            "WARNING:tensorflow:Layer nn_1 is casting an input tensor from dtype float64 to the layer's dtype of float32, which is new behavior in TensorFlow 2.  The layer has dtype float32 because it's dtype defaults to floatx.\n",
            "\n",
            "If you intended to run this layer in float32, you can safely ignore this warning. If in doubt, this warning is likely only an issue if you are porting a TensorFlow 1.X model to TensorFlow 2.\n",
            "\n",
            "To change all layers to have dtype float64 by default, call `tf.keras.backend.set_floatx('float64')`. To change just this layer, pass dtype='float64' to the layer constructor. If you are the author of this layer, you can disable autocasting by passing autocast=False to the base Layer constructor.\n",
            "\n",
            "0 tf.Tensor(484241421.1634984, shape=(), dtype=float64)\n",
            "1 tf.Tensor(484148922.7991501, shape=(), dtype=float64)\n",
            "2 tf.Tensor(484062814.16717607, shape=(), dtype=float64)\n",
            "3 tf.Tensor(483976370.272464, shape=(), dtype=float64)\n",
            "4 tf.Tensor(483889630.78544986, shape=(), dtype=float64)\n",
            "5 tf.Tensor(483802841.0850207, shape=(), dtype=float64)\n",
            "6 tf.Tensor(483715397.6963617, shape=(), dtype=float64)\n",
            "7 tf.Tensor(483627617.66092634, shape=(), dtype=float64)\n",
            "8 tf.Tensor(483539500.72130126, shape=(), dtype=float64)\n",
            "9 tf.Tensor(483451046.33173674, shape=(), dtype=float64)\n"
          ],
          "name": "stdout"
        }
      ]
    },
    {
      "cell_type": "code",
      "metadata": {
        "id": "XGDD5tkOPeUo",
        "colab_type": "code",
        "colab": {}
      },
      "source": [
        ""
      ],
      "execution_count": 0,
      "outputs": []
    }
  ]
}